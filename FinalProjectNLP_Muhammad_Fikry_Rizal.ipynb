{
 "cells": [
  {
   "cell_type": "code",
   "execution_count": 5,
   "metadata": {
    "colab": {
     "base_uri": "https://localhost:8080/"
    },
    "id": "SbPZvlxEGoTa",
    "outputId": "5dd89f91-ee93-40ba-c97d-d6fdde5b15a9"
   },
   "outputs": [
    {
     "name": "stdout",
     "output_type": "stream",
     "text": [
      "2.10.0\n"
     ]
    }
   ],
   "source": [
    "import tensorflow as tf\n",
    "\n",
    "print(tf.__version__)"
   ]
  },
  {
   "cell_type": "code",
   "execution_count": 1,
   "metadata": {
    "colab": {
     "base_uri": "https://localhost:8080/"
    },
    "id": "Pz0IwmiHHe9U",
    "outputId": "a45a2451-ecb5-4da3-e4ac-5625a49b6e71"
   },
   "outputs": [
    {
     "name": "stderr",
     "output_type": "stream",
     "text": [
      "[nltk_data] Downloading package stopwords to\n",
      "[nltk_data]     C:\\Users\\Fikry\\AppData\\Roaming\\nltk_data...\n",
      "[nltk_data]   Package stopwords is already up-to-date!\n",
      "[nltk_data] Downloading package punkt to\n",
      "[nltk_data]     C:\\Users\\Fikry\\AppData\\Roaming\\nltk_data...\n",
      "[nltk_data]   Package punkt is already up-to-date!\n"
     ]
    },
    {
     "data": {
      "text/plain": [
       "True"
      ]
     },
     "execution_count": 1,
     "metadata": {},
     "output_type": "execute_result"
    }
   ],
   "source": [
    "import os\n",
    "import re\n",
    "import numpy as np\n",
    "import pandas as pd\n",
    "import matplotlib.pyplot as plt\n",
    "import seaborn as sns; sns.set()\n",
    "# Default Package to mapping\n",
    "from nltk.tokenize import word_tokenize\n",
    "from nltk.corpus import stopwords\n",
    "from sklearn.preprocessing import OneHotEncoder\n",
    "from sklearn.model_selection import train_test_split\n",
    "# Preprocessing Package to structuring and manipulating data\n",
    "from tensorflow.keras.preprocessing import sequence\n",
    "from tensorflow.keras.optimizers import Adam\n",
    "from tensorflow.keras.preprocessing.text import Tokenizer\n",
    "from tensorflow.keras.models import Sequential\n",
    "from tensorflow.keras.layers import Dense, LSTM\n",
    "from tensorflow.keras.layers import Embedding\n",
    "from tensorflow.keras.utils import pad_sequences\n",
    "# Modelling package to improve accuracy and score model\n",
    "from sklearn.metrics import confusion_matrix, f1_score, classification_report\n",
    "# Report Package to Knowing what's the accuracy of model created\n",
    "import warnings\n",
    "warnings.filterwarnings('ignore')\n",
    "import nltk\n",
    "nltk.download('stopwords')\n",
    "import nltk\n",
    "nltk.download('punkt')"
   ]
  },
  {
   "cell_type": "code",
   "execution_count": 2,
   "metadata": {
    "id": "HyT79lj7Hjoi"
   },
   "outputs": [],
   "source": [
    "dataframe = pd.read_csv(\"data-newspaper.csv\")"
   ]
  },
  {
   "cell_type": "code",
   "execution_count": 3,
   "metadata": {
    "colab": {
     "base_uri": "https://localhost:8080/",
     "height": 424
    },
    "id": "zJfsF7sjN1F1",
    "outputId": "6690f969-4888-40d5-9d45-9e3be21e417d"
   },
   "outputs": [
    {
     "data": {
      "text/html": [
       "<div>\n",
       "<style scoped>\n",
       "    .dataframe tbody tr th:only-of-type {\n",
       "        vertical-align: middle;\n",
       "    }\n",
       "\n",
       "    .dataframe tbody tr th {\n",
       "        vertical-align: top;\n",
       "    }\n",
       "\n",
       "    .dataframe thead th {\n",
       "        text-align: right;\n",
       "    }\n",
       "</style>\n",
       "<table border=\"1\" class=\"dataframe\">\n",
       "  <thead>\n",
       "    <tr style=\"text-align: right;\">\n",
       "      <th></th>\n",
       "      <th>article_id</th>\n",
       "      <th>article_topic</th>\n",
       "      <th>article_content</th>\n",
       "    </tr>\n",
       "  </thead>\n",
       "  <tbody>\n",
       "    <tr>\n",
       "      <th>0</th>\n",
       "      <td>93205794</td>\n",
       "      <td>Internasional</td>\n",
       "      <td>Kepolisian Inggris tengah memburu pelaku yang...</td>\n",
       "    </tr>\n",
       "    <tr>\n",
       "      <th>1</th>\n",
       "      <td>93186698</td>\n",
       "      <td>Ekonomi</td>\n",
       "      <td>Seluruh layanan transaksi di jalan tol akan m...</td>\n",
       "    </tr>\n",
       "    <tr>\n",
       "      <th>2</th>\n",
       "      <td>93191463</td>\n",
       "      <td>Teknologi</td>\n",
       "      <td>\\nHari ini, Rabu (23/8), ternyata menjadi har...</td>\n",
       "    </tr>\n",
       "    <tr>\n",
       "      <th>3</th>\n",
       "      <td>93219292</td>\n",
       "      <td>Ekonomi</td>\n",
       "      <td>Saat ini Indonesia hanya memiliki cadangan ba...</td>\n",
       "    </tr>\n",
       "    <tr>\n",
       "      <th>4</th>\n",
       "      <td>343106</td>\n",
       "      <td>Hiburan</td>\n",
       "      <td>Hari ini, Selasa (1/8), pedangdut Ridho Rhoma...</td>\n",
       "    </tr>\n",
       "    <tr>\n",
       "      <th>...</th>\n",
       "      <td>...</td>\n",
       "      <td>...</td>\n",
       "      <td>...</td>\n",
       "    </tr>\n",
       "    <tr>\n",
       "      <th>9995</th>\n",
       "      <td>93221319</td>\n",
       "      <td>Bojonegoro</td>\n",
       "      <td>Reporter : Joel JokoblokBojonegoro.com - Har...</td>\n",
       "    </tr>\n",
       "    <tr>\n",
       "      <th>9996</th>\n",
       "      <td>93203115</td>\n",
       "      <td>Ekonomi</td>\n",
       "      <td>Pada akhir tahun ini, Direktur Jenderal (Dirj...</td>\n",
       "    </tr>\n",
       "    <tr>\n",
       "      <th>9997</th>\n",
       "      <td>93230854</td>\n",
       "      <td>Sepak Bola</td>\n",
       "      <td>Ketika pertama kali datang ke Barcelona pada ...</td>\n",
       "    </tr>\n",
       "    <tr>\n",
       "      <th>9998</th>\n",
       "      <td>93199312</td>\n",
       "      <td>Sepak Bola</td>\n",
       "      <td>Tim Nasional (Timnas) Indonesia U-19 berhasil...</td>\n",
       "    </tr>\n",
       "    <tr>\n",
       "      <th>9999</th>\n",
       "      <td>93194682</td>\n",
       "      <td>Teknologi</td>\n",
       "      <td>Telkom masih melakukan proses perbaikan dan p...</td>\n",
       "    </tr>\n",
       "  </tbody>\n",
       "</table>\n",
       "<p>10000 rows × 3 columns</p>\n",
       "</div>"
      ],
      "text/plain": [
       "      article_id  article_topic  \\\n",
       "0       93205794  Internasional   \n",
       "1       93186698        Ekonomi   \n",
       "2       93191463      Teknologi   \n",
       "3       93219292        Ekonomi   \n",
       "4         343106        Hiburan   \n",
       "...          ...            ...   \n",
       "9995    93221319     Bojonegoro   \n",
       "9996    93203115        Ekonomi   \n",
       "9997    93230854     Sepak Bola   \n",
       "9998    93199312     Sepak Bola   \n",
       "9999    93194682      Teknologi   \n",
       "\n",
       "                                        article_content  \n",
       "0      Kepolisian Inggris tengah memburu pelaku yang...  \n",
       "1      Seluruh layanan transaksi di jalan tol akan m...  \n",
       "2      \\nHari ini, Rabu (23/8), ternyata menjadi har...  \n",
       "3      Saat ini Indonesia hanya memiliki cadangan ba...  \n",
       "4      Hari ini, Selasa (1/8), pedangdut Ridho Rhoma...  \n",
       "...                                                 ...  \n",
       "9995    Reporter : Joel JokoblokBojonegoro.com - Har...  \n",
       "9996   Pada akhir tahun ini, Direktur Jenderal (Dirj...  \n",
       "9997   Ketika pertama kali datang ke Barcelona pada ...  \n",
       "9998   Tim Nasional (Timnas) Indonesia U-19 berhasil...  \n",
       "9999   Telkom masih melakukan proses perbaikan dan p...  \n",
       "\n",
       "[10000 rows x 3 columns]"
      ]
     },
     "execution_count": 3,
     "metadata": {},
     "output_type": "execute_result"
    }
   ],
   "source": [
    "dataframe"
   ]
  },
  {
   "cell_type": "code",
   "execution_count": 4,
   "metadata": {
    "colab": {
     "base_uri": "https://localhost:8080/"
    },
    "id": "T2OCvPXKN3EO",
    "outputId": "00f02de9-b616-492a-aa61-e1e6abaec269"
   },
   "outputs": [
    {
     "name": "stdout",
     "output_type": "stream",
     "text": [
      "<class 'pandas.core.frame.DataFrame'>\n",
      "RangeIndex: 10000 entries, 0 to 9999\n",
      "Data columns (total 3 columns):\n",
      " #   Column           Non-Null Count  Dtype \n",
      "---  ------           --------------  ----- \n",
      " 0   article_id       10000 non-null  int64 \n",
      " 1   article_topic    10000 non-null  object\n",
      " 2   article_content  9964 non-null   object\n",
      "dtypes: int64(1), object(2)\n",
      "memory usage: 234.5+ KB\n"
     ]
    }
   ],
   "source": [
    "dataframe.info()"
   ]
  },
  {
   "cell_type": "code",
   "execution_count": 5,
   "metadata": {
    "colab": {
     "base_uri": "https://localhost:8080/",
     "height": 959
    },
    "id": "ccU3-eawZn5O",
    "outputId": "afa7877b-af30-4063-e91d-1374549728c2"
   },
   "outputs": [
    {
     "data": {
      "text/html": [
       "<div>\n",
       "<style scoped>\n",
       "    .dataframe tbody tr th:only-of-type {\n",
       "        vertical-align: middle;\n",
       "    }\n",
       "\n",
       "    .dataframe tbody tr th {\n",
       "        vertical-align: top;\n",
       "    }\n",
       "\n",
       "    .dataframe thead th {\n",
       "        text-align: right;\n",
       "    }\n",
       "</style>\n",
       "<table border=\"1\" class=\"dataframe\">\n",
       "  <thead>\n",
       "    <tr style=\"text-align: right;\">\n",
       "      <th></th>\n",
       "      <th>article_topic</th>\n",
       "      <th>article_content</th>\n",
       "    </tr>\n",
       "  </thead>\n",
       "  <tbody>\n",
       "    <tr>\n",
       "      <th>0</th>\n",
       "      <td>Ekonomi</td>\n",
       "      <td>1760</td>\n",
       "    </tr>\n",
       "    <tr>\n",
       "      <th>1</th>\n",
       "      <td>Haji</td>\n",
       "      <td>1497</td>\n",
       "    </tr>\n",
       "    <tr>\n",
       "      <th>2</th>\n",
       "      <td>Hiburan</td>\n",
       "      <td>1448</td>\n",
       "    </tr>\n",
       "    <tr>\n",
       "      <th>3</th>\n",
       "      <td>Sepak Bola</td>\n",
       "      <td>1180</td>\n",
       "    </tr>\n",
       "    <tr>\n",
       "      <th>4</th>\n",
       "      <td>Internasional</td>\n",
       "      <td>739</td>\n",
       "    </tr>\n",
       "    <tr>\n",
       "      <th>5</th>\n",
       "      <td>Lifestyle</td>\n",
       "      <td>568</td>\n",
       "    </tr>\n",
       "    <tr>\n",
       "      <th>6</th>\n",
       "      <td>Teknologi</td>\n",
       "      <td>567</td>\n",
       "    </tr>\n",
       "    <tr>\n",
       "      <th>7</th>\n",
       "      <td>Sports</td>\n",
       "      <td>435</td>\n",
       "    </tr>\n",
       "    <tr>\n",
       "      <th>8</th>\n",
       "      <td>Bojonegoro</td>\n",
       "      <td>260</td>\n",
       "    </tr>\n",
       "    <tr>\n",
       "      <th>9</th>\n",
       "      <td>Kesehatan</td>\n",
       "      <td>195</td>\n",
       "    </tr>\n",
       "    <tr>\n",
       "      <th>10</th>\n",
       "      <td>Sains</td>\n",
       "      <td>174</td>\n",
       "    </tr>\n",
       "    <tr>\n",
       "      <th>11</th>\n",
       "      <td>Otomotif</td>\n",
       "      <td>173</td>\n",
       "    </tr>\n",
       "    <tr>\n",
       "      <th>12</th>\n",
       "      <td>Health</td>\n",
       "      <td>131</td>\n",
       "    </tr>\n",
       "    <tr>\n",
       "      <th>13</th>\n",
       "      <td>Politik</td>\n",
       "      <td>103</td>\n",
       "    </tr>\n",
       "    <tr>\n",
       "      <th>14</th>\n",
       "      <td>Hukum</td>\n",
       "      <td>85</td>\n",
       "    </tr>\n",
       "    <tr>\n",
       "      <th>15</th>\n",
       "      <td>Personal</td>\n",
       "      <td>81</td>\n",
       "    </tr>\n",
       "    <tr>\n",
       "      <th>16</th>\n",
       "      <td>Travel</td>\n",
       "      <td>76</td>\n",
       "    </tr>\n",
       "    <tr>\n",
       "      <th>17</th>\n",
       "      <td>Pendidikan</td>\n",
       "      <td>70</td>\n",
       "    </tr>\n",
       "    <tr>\n",
       "      <th>18</th>\n",
       "      <td>Sejarah</td>\n",
       "      <td>70</td>\n",
       "    </tr>\n",
       "    <tr>\n",
       "      <th>19</th>\n",
       "      <td>K-Pop</td>\n",
       "      <td>61</td>\n",
       "    </tr>\n",
       "    <tr>\n",
       "      <th>20</th>\n",
       "      <td>Obat-obatan</td>\n",
       "      <td>58</td>\n",
       "    </tr>\n",
       "    <tr>\n",
       "      <th>21</th>\n",
       "      <td>Horor</td>\n",
       "      <td>50</td>\n",
       "    </tr>\n",
       "    <tr>\n",
       "      <th>22</th>\n",
       "      <td>KPK</td>\n",
       "      <td>37</td>\n",
       "    </tr>\n",
       "    <tr>\n",
       "      <th>23</th>\n",
       "      <td>MotoGP</td>\n",
       "      <td>35</td>\n",
       "    </tr>\n",
       "    <tr>\n",
       "      <th>24</th>\n",
       "      <td>Regional</td>\n",
       "      <td>35</td>\n",
       "    </tr>\n",
       "    <tr>\n",
       "      <th>25</th>\n",
       "      <td>Pilgub Jatim</td>\n",
       "      <td>25</td>\n",
       "    </tr>\n",
       "    <tr>\n",
       "      <th>26</th>\n",
       "      <td>Bisnis</td>\n",
       "      <td>25</td>\n",
       "    </tr>\n",
       "    <tr>\n",
       "      <th>27</th>\n",
       "      <td>Keuangan</td>\n",
       "      <td>14</td>\n",
       "    </tr>\n",
       "    <tr>\n",
       "      <th>28</th>\n",
       "      <td>Jakarta</td>\n",
       "      <td>12</td>\n",
       "    </tr>\n",
       "  </tbody>\n",
       "</table>\n",
       "</div>"
      ],
      "text/plain": [
       "    article_topic  article_content\n",
       "0         Ekonomi             1760\n",
       "1            Haji             1497\n",
       "2         Hiburan             1448\n",
       "3      Sepak Bola             1180\n",
       "4   Internasional              739\n",
       "5       Lifestyle              568\n",
       "6       Teknologi              567\n",
       "7          Sports              435\n",
       "8      Bojonegoro              260\n",
       "9       Kesehatan              195\n",
       "10          Sains              174\n",
       "11       Otomotif              173\n",
       "12         Health              131\n",
       "13        Politik              103\n",
       "14          Hukum               85\n",
       "15       Personal               81\n",
       "16         Travel               76\n",
       "17     Pendidikan               70\n",
       "18        Sejarah               70\n",
       "19          K-Pop               61\n",
       "20    Obat-obatan               58\n",
       "21          Horor               50\n",
       "22            KPK               37\n",
       "23         MotoGP               35\n",
       "24       Regional               35\n",
       "25   Pilgub Jatim               25\n",
       "26         Bisnis               25\n",
       "27       Keuangan               14\n",
       "28        Jakarta               12"
      ]
     },
     "execution_count": 5,
     "metadata": {},
     "output_type": "execute_result"
    }
   ],
   "source": [
    "count_data = dataframe.groupby('article_topic')[['article_content']].count().sort_values(by='article_content',ascending=False).reset_index()\n",
    "count_data"
   ]
  },
  {
   "cell_type": "code",
   "execution_count": 6,
   "metadata": {
    "colab": {
     "base_uri": "https://localhost:8080/",
     "height": 581
    },
    "id": "_X6neNxuPVby",
    "outputId": "e964b912-cec3-4374-cadf-4d91ef562be6"
   },
   "outputs": [
    {
     "data": {
      "image/png": "[encoded data removed]",
      "text/plain": [
       "<Figure size 1440x576 with 1 Axes>"
      ]
     },
     "metadata": {},
     "output_type": "display_data"
    }
   ],
   "source": [
    "fig, ax = plt.subplots(figsize=(20,8))\n",
    "\n",
    "sns.barplot(x=count_data['article_topic'], y=count_data['article_content'], palette=\"deep\", ax=ax)\n",
    "ax.set_ylabel('Count')\n",
    "ax.set_xlabel('Topics of Newspaper')\n",
    "plt.xticks(rotation = 45)\n",
    "plt.tight_layout()"
   ]
  },
  {
   "cell_type": "code",
   "execution_count": 7,
   "metadata": {
    "colab": {
     "base_uri": "https://localhost:8080/"
    },
    "id": "Lw8VIumXauX4",
    "outputId": "497c7d72-27d5-4820-ad08-04af5a96e4ea"
   },
   "outputs": [
    {
     "data": {
      "text/plain": [
       "article_id          0\n",
       "article_topic       0\n",
       "article_content    36\n",
       "dtype: int64"
      ]
     },
     "execution_count": 7,
     "metadata": {},
     "output_type": "execute_result"
    }
   ],
   "source": [
    "dataframe.isnull().sum()"
   ]
  },
  {
   "cell_type": "code",
   "execution_count": 8,
   "metadata": {
    "colab": {
     "base_uri": "https://localhost:8080/"
    },
    "id": "bkuubywbajTf",
    "outputId": "e09c7cb9-f220-4bad-e6eb-5fac776d2925"
   },
   "outputs": [
    {
     "data": {
      "text/plain": [
       "article_id         0\n",
       "article_topic      0\n",
       "article_content    0\n",
       "dtype: int64"
      ]
     },
     "execution_count": 8,
     "metadata": {},
     "output_type": "execute_result"
    }
   ],
   "source": [
    "dataframe = dataframe.dropna(how='any')\n",
    "dataframe.isnull().sum()"
   ]
  },
  {
   "cell_type": "code",
   "execution_count": 10,
   "metadata": {
    "colab": {
     "base_uri": "https://localhost:8080/"
    },
    "id": "scs1LZtFgRi1",
    "outputId": "8f217596-4d1f-4670-b048-a63effdeed9f"
   },
   "outputs": [
    {
     "data": {
      "text/plain": [
       "array([' Kepolisian Inggris tengah memburu pelaku yang meledakkan bom di stasiun London. Sedikitnya 22 orang terluka dalam peristiwa yang terjadi pada Jumat pagi yang sibuk (15/9).Menurut asisten komisaris kepolisian Inggris Mark Rowley seperti dikutip The Guardian, ratusan detektif dikerahkan untuk menyelidiki kasus ini. Mereka akan memeriksa semua rekaman CCTV di jaringan kereta bawah tanah London untuk mencari pelakunya.Sebelumnya kepolisian telah menangani kasus ini sebagai aksi terorisme. Penyelidikan juga dilakukan oleh Komando Pemberantasan Terorisme Kepolisian London dan badan keamanan dalam negeri Inggris MI5.Ledakan terjadi di stasiun Parsons Green di salam satu gerbong kereta. Peristiwa ini memicu kepanikan ratusan penumpang yang langsung berhamburan menyelamatkan diri. Sedikitnya 22 orang terluka, namun tidak mengancam nyawa.Menurut kepolisian, bom rakitan itu belum sepenuhnya meledak. Tim forensik akan menyelidiki bom itu, mencari tahu bahan kimia yang digunakan, dan dari mana pelaku mempelajari pembuatannya.Inggris telah mengalami empat kali serangan teroris tahun ini, menewaskan 36 orang. Tahun 2005, 52 orang tewas dalam ledakan bunuh diri di tiga kereta bawah tanah London dan sebuah bus.',\n",
       "       \" Seluruh layanan transaksi di jalan tol akan mulai menggunakan sistem nontunai pada Oktober tahun ini. Selain untuk meningkatkan layanan, kebijakan tersebut diterapkan agar transaksi di gerbang tol lebih efisien sehingga tidak terjadi antrean kendaraan.Deputi Gubernur Bank Indonesia (BI), Sugeng, mengatakan untuk mempercepat penetrasi tersebut, pihaknya akan memberikan diskon 50 persen untuk pembelian kartu uang elektronik. Loket pengisian ulang kartu tersebut juga akan diperbanyak. 'Ada banyak yang mengeluh susahnya top up, produsen kami menambah titik top up. Akan ditingkatkan bertahap sehingga orang menjadi mudah dalam menggunakan,' kata Sugeng di Gedung BI Thamrin, Jakarta, Selasa (15/8).Diskon pembelian kartu perdana uang elektronik tersebut akan dilakukan mulai 17 Agustus hingga 30 September 2017. Adapun pada tahap awal ini, baru tersedia pada Bank Mandiri, BNI, BRI, dan BCA. Saat ini, harga kartu perdana uang elektronik rata-rata Rp 40 ribu, dengan saldo sebesar Rp 20 ribu. Sementara terkait penetrasi penggunaan uang elektronik secara nasional baru mencapai 28 persen.Kepala Badan Pengatur Jalan Tol (BPJT) Herry TZ mengatakan, pada Oktober nanti pihaknya akan memaksa para pengguna jalan tol untuk menggunakan uang elektronik. Di antaranya dengan akan diterbitkannya Peraturan Menteri Pekerjaan Umum dan Peruman Rakyat (PUPR). 'Dari segi aturan kami siapkan aturannya, tapi kalau di lapang sudah enggak ada juga tunai, ya dia enggak bisa, enggak diterima tunai,' kata Herry.Pengguna tol wajib menggunakan uang elektronik pada Oktober 2017. PT Jasa Marga Tbk sebagai penyelenggara jasa jalan tol mengatakan kesiapannya dalam mendukung program tersebut. Sementara Direktur Operasi I Jasa Marga, Muhammad Sofyan, mengatakan hingga saat ini ada 1.150 gardu tol yang dimiliki Jasa Marga. Dari jumlah tersebut, 47 persennya merupakan Gardu Tol Otomatis (GTO).Namun, pelayanan gardu tol otomatis tersebut belum maksimal karena hingga saat ini baru 28 persen pengguna jalan tol yang melakukan transaksi menggunakan uang elektronik secara nasional. 'Jadi masih ada kapasitas yang belum maksimal digunakan untuk meningkatkan pelayaanan jalan tol. Perbankan juga akan melakukan upaya maksimal. Kami harap pengguna jalan juga berpartisipasi dalam penggunaan uang elektronik ini,' katanya.Sofyan memastikan jika Jasa Marga sudah mempersiapkan secara maksimal agar program transaksi elektronik di seluruh layanan jalan tol sudah bisa dilaksanakan pada Oktober mendatang. Dia meminta agar masyarakat segera beralih menggunakan transaksi nontunai.'Apapun yang disiapkan tidak akan berhasil kalau pengguna jalan tidak berubah. Jadi tetap pola pikir masyarakat yang mesti berubah ke nontunai,' katanya.\",\n",
       "       ' \\nHari ini, Rabu (23/8), ternyata menjadi hari yang spesial bagi tagar atau yang biasa disebut juga hashtag. Kenapa demikian? 23 Agustus ternyata menandai tepat 10 tahun pasca diciptakannya tagar (#) di media sosial Twitter.\\n\\nUntuk merayakan hari ulang tahun ke-10 dari tagar, Twitter pun menghadirkan emoji khusus yang akan keluar ketika kita mengetikkan #Hashtag10 di platform media sosial tersebut.\\n \\nTwitter memang menjadi platform media sosial yang mempopulerkan tagar, di mana tagar ini dapat menggabungkan seluruh kicauan dalam suatu topik yang sama ketika pengguna mengklik tagar tersebut.\\n\\nSelain itu, Twitter juga merilis daftar 10 tagar yang paling populer yang digunakan oleh para penggunanya di Indonesia selama 10 tahun terakhir. Penasaran apa saja? Berikut daftarnya.\\n\\n1. #OwiButetBisaEmas2. #Salam2Jari3. #KamiTidakTakut4. #SaveKPK5. #Euro20166. #PersibDay7. #MUFC8. #MelawanAsap9. #DemiMetallica10. #JumatBerkah\\n \\nDari deretan tagar terpopuler ini terlihat bagaimana animo masyarakat menyebar ke berbagai topik yang bermacam-macam. Ada tagar mengenai politik, olahraga, konser Metallica di Jakarta, hingga sebuah pernyataan seperti #KamiTidakTakut yang bergema pasca serangan teroris di Tanah Air.\\n\\nJadi, mana tagar favoritmu?\\n ',\n",
       "       ...,\n",
       "       \" Ketika pertama kali datang ke Barcelona pada 2013, Neymar belumlah menjadi Neymar yang sekarang. Kala itu, Neymar hanya pemain muda dengan talenta besar yang kerap dipuja-puja media dan publik. Namanya memang sudah terdengar gaungnya, tapi ketika sampai di Barcelona, dia masih harus membuktikan diri.Bagitu sampai di Barcelona, Neymar langsung mendpatkan bimbingan dari seorang bintang bernama Lionel Messi. Messi mengajarkan banyak hal, mulai dari bagaimana caranya mengasah kemampuan hingga bagaimana memaksimalkan talenta dengan baik dan membuatnya semakin baik lagi. Dari situ, Neymar matang dan akhirnya menjadi bintang. Empat tahun setelahnya, setelah dia merasa masa belajarnya dengan Messi sudah cukup, Neymar kita tahu memutuskan angkat kaki ke Paris Saint-Germain. Saat itu, statusnya sudah merupakan superstar. Neymar bukan lagi sekadar pemain bintang, tapi juga berstatus sebagai pemain termahal dunia.Neymar kini sudah meniti kariernya sendiri di PSG. Dia sudah tak butuh bantuan lagi. Justru di Prancis, kini dia memutuskan untuk melakukan apa yang Messi lakukan: membantu pemain muda dengan talenta besar menjadi pemain hebat. Pemain asal Brasil itu ingin melakukan budi yang sama.Lantas siapa pemain yang akan menjadi 'muridnya'? Ya, benar, siapa lagi kalau bukan Kylian Mbappe. Mbappe, pemuda 18 tahun itu memang membutuhkan mentor untuk berkembang menjadi lebih matang. Dan Neymar bukanlah pilihan yang buruk untuk itu. Neymar sendiri juga yakin kalau juniornya itu bisa menjadi pemain bintang. Tinggal tunggu waktunya saja. Apalagi sejauh ini, kerja sama keduanya begitu baik. Mbappe dan Neymar bisa membawa PSG tak terkalahkan di semua kompetisi sejauh ini.Soal statistik, sampai saat ini Neymar sudah berhasil mencetak 9 gol dan 7 assist, sementara rekannya asal Prancis sudah mengemas 4 gol dan 5 assist. Mbappe mampu menunjukkan kalau dia memang bisa berkembang lebih baik dan Neymar juga menunjukkan kalau dia memang sudah matang. 'Dia adalah anak emas dan dia telah melakukannya dengan sangat baik. Dia pemain hebat dan memiliki semua kualitas untuk menjadi salah satu nama besar di sepak bola,' kata Neymar dilansir Soccerway.'Saya berharap dia mendapat yang terbaik dan saya akan membantunya dalam segala hal yang saya bisa. Mudah-mudahan, saya bisa melakukan hal yang sama dengan yang telah dilakukan Messi untuk saya,' tambahnya.Jika kelak ilmu yang diberikan Neymar kepada Mbappe benar-benar manjur dan keduanya sama-sama menjadi superstar untuk PSG, maka uang melimpah yang mereka keluarkan untuk memboyong kedua pemain itu tidaklah sia-sia.\",\n",
       "       \" Tim Nasional (Timnas) Indonesia U-19 berhasil meraih kemenangan di laga perdana kiprah mereka di Piala AFF U-18 2017. Menghadapi tuan rumah, Myanmar, di Stadion di Thuwunna Stadium, Yangon, pada Selasa (5/9) malam WIB, Timnas U-19 berhasil menang dengan skor 2-1.Dua gol Egy Maulana Vikri berhasil membawa Timnas U-19 meraih kemenangan walau pada babak pertama 'Garuda Nusantara' sempat tertinggal 0-1 melalui gol yang dicetak Myat Khaung. Kemenangan ini pun membuat Timnas U-19 mendapat tiga poin perdana. Menanggapi hasil tersebut, sang pelatih, Indra Sjafri, mengungkapkan kalau timnya memang sempat kesulitan pada babak pertama. Serangan-serangan yang dilancarkan tak membuahkan hasil. Bahkan di 45 menit pertama tak ada satu pun tembakan on target yang mengarah ke gawang Myanmar.Barulah pada babak kedua, variasi dan intensitas serangan Timnas U-19 jauh lebih meningkat dan, tentunya, lebih baik. Hasilnya peluang-peluang emas berhasil didapatkan pasukan Indra Sjafri. Dan dari 10 tembakan yang mengarah ke gawang Myanmar, dua di antaranya berhasil membuahkan gol.'Alhamdulillah kami meraih kemenangan di laga perdana Piala AFF U18, apalagi yang kita lawan tuan rumah. Doa bangsa Indonesia dikabulkan malam ini kami mampu kalahkan mereka. Di babak pertama kami akui Myanmar lebih unggul, namun di babak kedua anak-anak mampu bangkit dan menguasai permainan,' kata Indra seusai laga. Walau mampu meraih kemenangan, Indra Sjafri mengatakan akan tetap mengevaluasi penampilan anak-anak asuhnya. Memang walau menang, performa Egy dan kolega masih belum bisa dikatakan sempurna, terutama dalam hal pengambilan keputusan di sepertiga akhir pertahanan lawan.Timnas U-19 sendiri pada laga berikutnya akan menghadapi Filipina, pada Kamis (7/9) di Thuwunna Stadium. Kebetulan, kondisi mental sang lawan tengah buruk usai kalah 2-3 dari Brunei di laga perdana. Kondisi ini yang harus bisa dimaksimalkan 'Garuda Nusantara' untuk bisa kembali meraup poin maksimal.'Tetap masih ada kekurangan dalam tim ini, kami akan segera evaluasi. Lawan Filipina kami wajib menang agar makin mudah jalan lolos ke babak semifinal. Soal rotasi pemain lawan Filipina, kami akan lihat kondisi dan situasi tim. Besok kami masih latihan satu kali untuk persiapan lawan Filipina,' pungkas Indra.\",\n",
       "       \" Telkom masih melakukan proses perbaikan dan pemulihan pada salah satu satelitnya, Telkom 1, setelah mengalami gangguan akibat anomali yang membuat pergeseran posisi anten pada Jumat sore (25/8) lalu. Proses pemulihan ini akan dilakukan oleh Telkom dalam dua tahap besar.\\n\\nMenurut Direktur Utama Telkom, Alex J. Sinaga, tahap pertama yang dilakukan perusahaan adalah menyiapkan transponder pengganti menggunakan satelit Telkom 2, Telkom 3s, dan sebagian satelit non-Telkom.\\n\\n'Sudah mulai proses tanggal 26 Agustus. Setelah transponder disiapkan dan takeover transponder Telkom 1, maka selesai tahap satu tanggal 31 Agustus,' ujar Alex dalam jumpa pers di gedung Graha Merah Putih di Jakarta, Senin (28/8). Walau Telkom sudah memiliki satelit Telkom 3s, yang memiliki teknologi transponder yang lebih canggih, namun Telkom masih memerlukan tambahan satelit lain karena kapasitas di satelit yang meluncur Februari lalu itu sudah tidak dapat menampung lagi pelanggan di Telkom 1.\\n\\nSaat ini, satelit lain yang juga dimanfaatkan oleh Telkom adalah Satelit Palapa D yang dioperasikan Indosat Ooredoo, dan BRIsat yang dioperasikan oleh Bank BRI.\\n\\n'Telkom 3s sudah terisi hingga tidak cukup, makanya Telkom 2 dan satelit lain kita butuh juga. Komposisinya 77 persen di satelit Telkom, sisanya non-Telkom,' kata Alex. \\n\\nSementara untuk tahap kedua, Telkom, bersama dengan pelanggan maupun operator penyedia layanan VSAT (Very Small Aperture Terminal), bakal melakukan proses repointing seluruh antena ground segment. Tahap kedua ini dilakukan setelah tahap pertama dilakukan, dan selesai hingga 10 September mendatang.\\n\\n'Estimasi 10 September semua sudah dipulihkan,' tambahnya.\\n\\nTelkom 1 tercatat memiliki jumlah pelanggan sebanyak 63 pelanggan dengan total ground segment sekitar 15.000. Seluruh pelanggan Telkom 1, 8 di antaranya merupakan provider VSAT (perbankan, broadcaster, dan lain sebagainya) yang memiliki ground segment sebanyak 12.030 site. \\n\\nSecara keseluruhan, proses migrasi pelanggan Telkom 1 ke satelit lain dan juga repointing antena ground segment ini baru sekitar 17 persen pada Senin (28/8).\\n\\n'Update terbaru sudah 17 persen, termasuk repointing. Hari ini,' aku Alex.\\n\\nGangguan pada Telkom 1 ini diketahui menghambat siaran televisi nasional dan membuat offline ribuan ATM milik perbankan. Telkom juga mempertimbangkan untuk berhenti mengoperasikan satelit yang telah berusia 18 tahun itu, yang meluncur sejak tahun 1999 dengan membawa  konfigurasi transponder 24 C-Band dan 12 extended C-Band. \\n\\nDi tahun 2018 mendatang, Telkom berencana meluncurkan satelit Telkom 4 untuk menggantikan Telkom 1 dan bakal menempati slot di 108 derajat Bujur Timur.\"],\n",
       "      dtype=object)"
      ]
     },
     "execution_count": 10,
     "metadata": {},
     "output_type": "execute_result"
    }
   ],
   "source": [
    "all_text = dataframe['article_content'].to_numpy()\n",
    "all_text"
   ]
  },
  {
   "cell_type": "code",
   "execution_count": 12,
   "metadata": {
    "id": "LCo6P28Re5TT"
   },
   "outputs": [],
   "source": [
    "stop_words = set(stopwords.words('indonesian'))"
   ]
  },
  {
   "cell_type": "code",
   "execution_count": 13,
   "metadata": {
    "id": "FxgMvuADcsb_"
   },
   "outputs": [],
   "source": [
    "def cleaning(text):\n",
    "  # Lowering Letters\n",
    "  text = text.lower()\n",
    "  # Removing White Space\n",
    "  text = text.strip()\n",
    "  # Removing HTML Tags\n",
    "  text = re.sub('<[^>]*>.,', '', text)\n",
    "  # Removing Email\n",
    "  text = re.sub('\\5*@\\S*\\s?', '', text)\n",
    "  # Removing URL\n",
    "  text = re.sub('http[s]?\\://[A-Za-z0-9]\\S+', '', text)\n",
    "  # removing number\n",
    "  text = re.sub('#[_]*[^a-zA-Z]+', '', text)\n",
    "  \n",
    "  word_tokens = word_tokenize(text)\n",
    "  filtered_sentence = []\n",
    "  for token_of_word in word_tokens:\n",
    "    if token_of_word not in stop_words:\n",
    "      filtered_sentence.append(token_of_word)\n",
    "  text = (' '.join(filtered_sentence))\n",
    "  return text\n"
   ]
  },
  {
   "cell_type": "code",
   "execution_count": 14,
   "metadata": {
    "colab": {
     "base_uri": "https://localhost:8080/"
    },
    "id": "db4JOc3egF__",
    "outputId": "41961ca2-84d8-4bbb-acf0-feae388e8825"
   },
   "outputs": [
    {
     "data": {
      "text/plain": [
       "array(['kepolisian inggris memburu pelaku meledakkan bom stasiun london . 22 orang terluka peristiwa jumat pagi sibuk ( 15/9 ) .menurut asisten komisaris kepolisian inggris mark rowley dikutip the guardian , ratusan detektif dikerahkan menyelidiki . memeriksa rekaman cctv jaringan kereta tanah london mencari pelakunya.sebelumnya kepolisian menangani aksi terorisme . penyelidikan komando pemberantasan terorisme kepolisian london badan keamanan negeri inggris mi5.ledakan stasiun parsons green salam gerbong kereta . peristiwa memicu kepanikan ratusan penumpang langsung berhamburan menyelamatkan . 22 orang terluka , mengancam nyawa.menurut kepolisian , bom rakitan sepenuhnya meledak . tim forensik menyelidiki bom , mencari bahan kimia , pelaku mempelajari pembuatannya.inggris mengalami kali serangan teroris , menewaskan 36 orang . 2005 , 52 orang tewas ledakan bunuh kereta tanah london bus .',\n",
       "       \"layanan transaksi jalan tol sistem nontunai oktober . meningkatkan layanan , kebijakan diterapkan transaksi gerbang tol efisien antrean kendaraan.deputi gubernur bank indonesia ( bi ) , sugeng , mempercepat penetrasi , diskon 50 persen pembelian kartu uang elektronik . loket pengisian ulang kartu diperbanyak . 'ada mengeluh susahnya top up , produsen menambah titik top up . ditingkatkan bertahap orang mudah , ' sugeng gedung bi thamrin , jakarta , selasa ( 15/8 ) .diskon pembelian kartu perdana uang elektronik 17 agustus 30 september 2017. tahap , tersedia bank mandiri , bni , bri , bca . , harga kartu perdana uang elektronik rata-rata rp 40 ribu , saldo rp 20 ribu . terkait penetrasi penggunaan uang elektronik nasional mencapai 28 persen.kepala badan pengatur jalan tol ( bpjt ) herry tz , oktober memaksa pengguna jalan tol uang elektronik . diterbitkannya peraturan menteri pekerjaan peruman rakyat ( pupr ) . 'dari segi aturan siapkan aturannya , lapang tunai , ya , diterima tunai , ' herry.pengguna tol wajib uang elektronik oktober 2017. pt jasa marga tbk penyelenggara jasa jalan tol kesiapannya mendukung program . direktur operasi i jasa marga , muhammad sofyan , 1.150 gardu tol dimiliki jasa marga . , 47 persennya gardu tol otomatis ( gto ) .namun , pelayanan gardu tol otomatis maksimal 28 persen pengguna jalan tol transaksi uang elektronik nasional . 'jadi kapasitas maksimal meningkatkan pelayaanan jalan tol . perbankan upaya maksimal . harap pengguna jalan berpartisipasi penggunaan uang elektronik , ' katanya.sofyan jasa marga maksimal program transaksi elektronik layanan jalan tol dilaksanakan oktober . masyarakat beralih transaksi nontunai . 'apapun disiapkan berhasil pengguna jalan berubah . pola pikir masyarakat mesti berubah nontunai , ' .\",\n",
       "       ', rabu ( 23/8 ) , spesial tagar hashtag . ? 23 agustus menandai 10 pasca diciptakannya tagar ( media sosial twitter . merayakan ulang ke-10 tagar , twitter menghadirkan emoji khusus mengetikkan # hashtag10 platform media sosial . twitter platform media sosial mempopulerkan tagar , tagar menggabungkan kicauan topik pengguna mengklik tagar . , twitter merilis daftar 10 tagar populer penggunanya indonesia 10 . penasaran ? daftarnya . 1 . # owibutetbisaemas2 . # salam2jari3 . # kamitidaktakut4 . # savekpk5 . # euro20166 . # persibday7 . # mufc8 . # melawanasap9 . # demimetallica10 . # jumatberkah deretan tagar terpopuler animo masyarakat menyebar topik . tagar politik , olahraga , konser metallica jakarta , pernyataan # kamitidaktakut bergema pasca serangan teroris tanah air . , tagar favoritmu ?',\n",
       "       ...,\n",
       "       \"kali barcelona 2013 , neymar neymar . , neymar pemain muda talenta kerap dipuja-puja media publik . namanya terdengar gaungnya , barcelona , membuktikan diri.bagitu barcelona , neymar langsung mendpatkan bimbingan bintang bernama lionel messi . messi mengajarkan , mengasah kemampuan memaksimalkan talenta membuatnya . situ , neymar matang bintang . setelahnya , belajarnya messi , neymar memutuskan angkat kaki paris saint-germain . , statusnya superstar . neymar pemain bintang , berstatus pemain termahal dunia.neymar meniti kariernya psg . butuh bantuan . prancis , memutuskan messi lakukan : membantu pemain muda talenta pemain hebat . pemain brasil budi sama.lantas pemain 'muridnya ' ? ya , , kylian mbappe . mbappe , pemuda 18 membutuhkan mentor berkembang matang . neymar pilihan buruk . neymar juniornya pemain bintang . tinggal tunggu . , kerja . mbappe neymar membawa psg terkalahkan kompetisi ini.soal statistik , neymar berhasil mencetak 9 gol 7 assist , rekannya prancis mengemas 4 gol 5 assist . mbappe berkembang neymar matang . 'dia anak emas melakukannya . pemain hebat memiliki kualitas salah nama sepak bola , ' neymar dilansir soccerway . 'saya berharap terbaik membantunya . mudah-mudahan , messi , ' tambahnya.jika kelak ilmu neymar mbappe benar-benar manjur superstar psg , uang melimpah keluarkan memboyong pemain sia-sia .\",\n",
       "       \"tim nasional ( timnas ) indonesia u-19 berhasil meraih kemenangan laga perdana kiprah piala aff u-18 2017. menghadapi tuan rumah , myanmar , stadion thuwunna stadium , yangon , selasa ( 5/9 ) malam wib , timnas u-19 berhasil menang skor 2-1.dua gol egy maulana vikri berhasil membawa timnas u-19 meraih kemenangan babak 'garuda nusantara ' tertinggal 0-1 gol dicetak myat khaung . kemenangan timnas u-19 poin perdana . menanggapi hasil , sang pelatih , indra sjafri , timnya kesulitan babak . serangan-serangan dilancarkan membuahkan hasil . 45 menit tembakan on target mengarah gawang myanmar.barulah babak , variasi intensitas serangan timnas u-19 meningkat , , . hasilnya peluang-peluang emas berhasil didapatkan pasukan indra sjafri . 10 tembakan mengarah gawang myanmar , berhasil membuahkan gol . 'alhamdulillah meraih kemenangan laga perdana piala aff u18 , lawan tuan rumah . doa bangsa indonesia dikabulkan malam kalahkan . babak akui myanmar unggul , babak anak-anak bangkit menguasai permainan , ' indra laga . meraih kemenangan , indra sjafri mengevaluasi penampilan anak-anak asuhnya . menang , performa egy kolega sempurna , pengambilan keputusan sepertiga pertahanan lawan.timnas u-19 laga menghadapi filipina , kamis ( 7/9 ) thuwunna stadium . , kondisi mental sang lawan buruk kalah 2-3 brunei laga perdana . kondisi dimaksimalkan 'garuda nusantara ' meraup poin maksimal . 'tetap kekurangan tim , evaluasi . lawan filipina wajib menang mudah jalan lolos babak semifinal . rotasi pemain lawan filipina , lihat kondisi situasi tim . besok latihan kali persiapan lawan filipina , ' pungkas indra .\",\n",
       "       \"telkom proses perbaikan pemulihan salah satelitnya , telkom 1 , mengalami gangguan akibat anomali pergeseran posisi anten jumat sore ( 25/8 ) . proses pemulihan telkom tahap . direktur utama telkom , alex j. sinaga , tahap perusahaan transponder pengganti satelit telkom 2 , telkom 3s , satelit non-telkom . 'sudah proses tanggal 26 agustus . transponder disiapkan takeover transponder telkom 1 , selesai tahap tanggal 31 agustus , ' alex jumpa pers gedung graha merah putih jakarta , senin ( 28/8 ) . telkom memiliki satelit telkom 3s , memiliki teknologi transponder canggih , telkom tambahan satelit kapasitas satelit meluncur februari menampung pelanggan telkom 1. , satelit dimanfaatkan telkom satelit palapa d dioperasikan indosat ooredoo , brisat dioperasikan bank bri . 'telkom 3s terisi , telkom 2 satelit butuh . komposisinya 77 persen satelit telkom , sisanya non-telkom , ' alex . tahap , telkom , pelanggan operator penyedia layanan vsat ( very small aperture terminal ) , proses repointing antena ground segment . tahap tahap , selesai 10 september . 'estimasi 10 september dipulihkan , ' . telkom 1 tercatat memiliki pelanggan 63 pelanggan total ground segment 15.000. pelanggan telkom 1 , 8 provider vsat ( perbankan , broadcaster , ) memiliki ground segment 12.030 site . , proses migrasi pelanggan telkom 1 satelit repointing antena ground segment 17 persen senin ( 28/8 ) . 'update terbaru 17 persen , repointing . , ' alex . gangguan telkom 1 menghambat siaran televisi nasional offline ribuan atm milik perbankan . telkom mempertimbangkan berhenti mengoperasikan satelit berusia 18 , meluncur 1999 membawa konfigurasi transponder 24 c-band 12 extended c-band . 2018 , telkom berencana meluncurkan satelit telkom 4 menggantikan telkom 1 menempati slot 108 derajat bujur timur .\"],\n",
       "      dtype='<U55940')"
      ]
     },
     "execution_count": 14,
     "metadata": {},
     "output_type": "execute_result"
    }
   ],
   "source": [
    "data_cleaned = np.array([cleaning(text) for text in all_text])\n",
    "data_cleaned"
   ]
  },
  {
   "cell_type": "code",
   "execution_count": 15,
   "metadata": {
    "id": "sfj80wAlhH_k"
   },
   "outputs": [],
   "source": [
    "tokenizer = Tokenizer()\n",
    "tokenizer.fit_on_texts(data_cleaned)"
   ]
  },
  {
   "cell_type": "code",
   "execution_count": 16,
   "metadata": {
    "colab": {
     "base_uri": "https://localhost:8080/"
    },
    "id": "DnILPpjbp5yW",
    "outputId": "abc330a9-e6e6-4afa-a7ca-b97942126261"
   },
   "outputs": [
    {
     "data": {
      "text/plain": [
       "array([list([847, 301, 5549, 383, 15422, 1901, 1303, 1447, 140, 5, 2647, 1118, 178, 317, 2447, 94, 20, 529, 2448, 3134, 847, 301, 4411, 30213, 589, 76, 3904, 1093, 21319, 9125, 6192, 3427, 2608, 6009, 615, 841, 91, 1447, 345, 9528, 1208, 847, 1983, 304, 2685, 2983, 6083, 3713, 2685, 847, 1447, 206, 503, 134, 301, 52950, 3450, 1303, 16874, 3154, 4253, 9126, 841, 1118, 1572, 10035, 1093, 780, 35, 17762, 2572, 140, 5, 2647, 2009, 2529, 529, 847, 1901, 15423, 1847, 5025, 30, 21320, 6192, 1901, 345, 229, 1693, 383, 4292, 10598, 301, 70, 25, 85, 3135, 2701, 1088, 5, 3214, 1230, 5, 899, 3450, 2318, 841, 91, 1447, 285]),\n",
       "       list([159, 609, 68, 409, 138, 10292, 272, 227, 159, 402, 2122, 609, 1902, 409, 2596, 4667, 537, 3574, 751, 120, 2, 714, 8699, 1837, 5288, 2530, 322, 66, 1202, 264, 80, 583, 9127, 3513, 557, 264, 21321, 1880, 5151, 18810, 1161, 738, 2377, 726, 794, 1161, 738, 4045, 1422, 5, 167, 1, 8699, 521, 714, 3072, 18, 166, 94, 10, 2530, 1202, 264, 559, 80, 583, 124, 27, 89, 32, 3, 660, 1294, 120, 1145, 1561, 1600, 3553, 50, 264, 559, 80, 583, 267, 267, 12, 420, 199, 4151, 12, 79, 199, 78, 5288, 584, 80, 583, 103, 84, 307, 66, 93, 206, 7931, 68, 409, 10036, 7154, 30214, 272, 3292, 350, 68, 409, 80, 583, 30215, 637, 100, 505, 52951, 412, 2906, 3172, 2076, 448, 3535, 10293, 9529, 1956, 44, 685, 1956, 1, 7154, 350, 409, 573, 80, 583, 272, 3, 73, 376, 2573, 1212, 692, 376, 68, 409, 16110, 437, 194, 247, 507, 257, 376, 2573, 397, 4857, 6, 1915, 3930, 409, 870, 376, 2573, 1515, 16875, 3930, 409, 1423, 17763, 336, 479, 3930, 409, 1423, 795, 307, 66, 350, 68, 409, 609, 80, 583, 103, 1184, 855, 795, 227, 52952, 68, 409, 1221, 510, 795, 2556, 350, 68, 4114, 584, 80, 583, 1, 1165, 4857, 376, 2573, 795, 194, 609, 583, 159, 68, 409, 1295, 272, 41, 4115, 609, 10292, 24723, 1857, 40, 350, 68, 629, 822, 1555, 41, 2334, 629, 10292, 1]),\n",
       "       list([136, 217, 10, 1481, 4624, 21322, 217, 27, 4454, 14, 1728, 17764, 4624, 115, 276, 1051, 2449, 557, 98, 14, 4624, 1051, 1296, 5289, 192, 34547, 52953, 1516, 115, 276, 1051, 1516, 115, 276, 21323, 4624, 4624, 8375, 7519, 4709, 350, 30216, 4624, 1051, 1188, 716, 14, 4624, 1951, 5026, 2, 14, 2335, 8911, 6, 52954, 52955, 52956, 52957, 52958, 52959, 52960, 52961, 52962, 52963, 3868, 4624, 13635, 8700, 41, 3003, 4709, 4624, 657, 484, 1360, 52964, 18, 622, 52965, 24724, 1728, 85, 3135, 91, 48, 4624, 17765]),\n",
       "       ...,\n",
       "       list([25, 281, 820, 476, 476, 476, 8, 235, 4498, 482, 18985, 10092, 115, 469, 516, 1756, 33277, 281, 1428, 7971, 50266, 281, 476, 35, 94936, 2383, 463, 242, 2824, 724, 724, 4589, 8299, 481, 3304, 4498, 1076, 880, 476, 2392, 463, 1803, 94937, 724, 476, 485, 2561, 299, 1510, 2000, 2693, 7282, 20042, 476, 8, 463, 2895, 8, 3805, 26, 476, 18617, 2239, 965, 857, 645, 966, 485, 724, 468, 185, 8, 235, 4498, 8, 1758, 8, 1588, 1553, 3298, 598, 8, 94938, 1, 44, 7598, 2595, 2595, 1278, 119, 575, 12623, 867, 2392, 476, 493, 451, 476, 21016, 8, 463, 282, 1178, 101, 2595, 476, 168, 965, 7440, 501, 284, 5459, 2414, 476, 40, 269, 20, 23, 47, 935, 3055, 966, 2092, 24, 23, 19, 935, 2595, 867, 476, 2392, 1989, 15, 219, 2417, 8, 1758, 13, 520, 16, 43, 239, 59, 1, 476, 320, 4831, 249, 308, 213, 8735, 167, 2133, 724, 1, 3244, 1265, 3472, 1185, 476, 2595, 125, 125, 10247, 20042, 965, 80, 8556, 6717, 6484, 8, 2441, 2441]),\n",
       "       list([30, 103, 146, 2, 116, 87, 40, 298, 188, 29, 559, 7022, 184, 1594, 116, 119, 3, 218, 737, 31, 306, 361, 8997, 1729, 7790, 166, 19, 20, 128, 160, 146, 116, 87, 40, 393, 331, 11, 6, 2070, 23, 761, 2134, 3912, 40, 168, 146, 116, 87, 298, 188, 176, 2289, 1344, 1, 1324, 53, 6, 23, 1843, 23932, 32163, 188, 146, 116, 87, 75, 559, 1890, 72, 121, 246, 906, 2329, 1420, 842, 176, 85, 85, 7270, 3836, 72, 688, 57, 1457, 978, 365, 2324, 225, 306, 5639, 176, 7490, 6104, 85, 146, 116, 87, 563, 946, 271, 271, 219, 40, 1965, 775, 906, 2329, 14, 1457, 2324, 225, 306, 40, 3836, 23, 2696, 298, 188, 29, 559, 184, 1594, 39457, 326, 737, 31, 1378, 604, 2, 10358, 128, 16123, 176, 10832, 306, 611, 176, 15, 15, 2864, 1849, 491, 1, 906, 29, 298, 188, 906, 2329, 7039, 465, 15, 15, 2909, 393, 1287, 761, 5162, 1263, 3000, 349, 4354, 458, 326, 146, 116, 87, 29, 218, 997, 161, 47, 20, 8997, 1729, 83, 1517, 121, 326, 451, 391, 11, 9, 3791, 29, 559, 83, 8305, 2289, 1344, 1, 3860, 75, 795, 20129, 1506, 30, 2268, 326, 997, 573, 393, 167, 68, 674, 176, 1567, 4249, 8, 326, 997, 517, 83, 793, 30, 1241, 519, 25, 731, 326, 997, 1, 2691, 906]),\n",
       "       list([1229, 74, 1416, 2982, 16, 19726, 1229, 6, 70, 37, 253, 8022, 5325, 99, 94939, 178, 691, 187, 10, 74, 2982, 1229, 660, 247, 108, 1229, 2505, 3570, 9652, 660, 60, 9515, 1431, 1494, 1229, 11, 1229, 13904, 1494, 872, 1229, 3672, 74, 238, 381, 27, 9515, 1857, 94940, 9515, 1229, 6, 407, 660, 238, 319, 27, 1, 2505, 3559, 1107, 521, 8348, 292, 288, 18, 137, 307, 10, 1229, 13, 1494, 1229, 13904, 13, 262, 9515, 3458, 1229, 711, 1494, 855, 1494, 4085, 1787, 3282, 1085, 1229, 6, 1494, 1347, 1229, 1494, 24241, 1668, 7193, 8330, 10216, 12832, 7193, 120, 1600, 34188, 13904, 9802, 1229, 11, 1494, 857, 23178, 1257, 66, 1494, 1229, 1724, 872, 1229, 1, 2505, 660, 1229, 1085, 2590, 2293, 159, 18737, 11085, 12191, 20597, 1191, 74, 22748, 9781, 10018, 18776, 660, 660, 407, 14, 32, 94941, 14, 32, 21391, 1, 1229, 6, 670, 13, 1085, 1500, 1085, 165, 10018, 18776, 94, 102, 1085, 1229, 6, 10, 9346, 18737, 1221, 94942, 13, 10018, 18776, 95, 20722, 14011, 74, 9023, 1085, 1229, 6, 1494, 22748, 9781, 10018, 18776, 124, 66, 137, 307, 10, 94943, 679, 124, 66, 22748, 1, 2505, 37, 1229, 6, 3202, 2878, 1381, 103, 4864, 1022, 2467, 278, 1221, 1229, 3253, 904, 5543, 1494, 123, 119, 4085, 2511, 168, 10693, 9515, 245, 1297, 1187, 95, 20326, 1297, 1187, 244, 1229, 1307, 1684, 1494, 1229, 24, 1246, 1229, 6, 1743, 5919, 6156, 2397, 16930, 231])],\n",
       "      dtype=object)"
      ]
     },
     "execution_count": 16,
     "metadata": {},
     "output_type": "execute_result"
    }
   ],
   "source": [
    "all_encoded_texts = tokenizer.texts_to_sequences(data_cleaned)\n",
    "all_encoded_texts = np.array(all_encoded_texts)\n",
    "all_encoded_texts"
   ]
  },
  {
   "cell_type": "code",
   "execution_count": 17,
   "metadata": {
    "colab": {
     "base_uri": "https://localhost:8080/"
    },
    "id": "8i-PLtkCqQTv",
    "outputId": "3f8ce049-3a08-425b-f266-85d000354652"
   },
   "outputs": [
    {
     "name": "stdout",
     "output_type": "stream",
     "text": [
      "Length of File 0 : 110\n",
      "Length of File 1 : 236\n",
      "Length of File 2 : 88\n",
      "Length of File 3 : 214\n",
      "Length of File 4 : 206\n"
     ]
    }
   ],
   "source": [
    "# Checking the length of the first 5 files\n",
    "for i in range(5):\n",
    "  print('Length of File', i, ':', len(all_encoded_texts[i]))"
   ]
  },
  {
   "cell_type": "code",
   "execution_count": 18,
   "metadata": {
    "id": "xx2P4ILYtSWp"
   },
   "outputs": [],
   "source": [
    "# Ensure that all files are having the exact same length. In this case it's 500 maximum words\n",
    "all_encoded_texts = pad_sequences(all_encoded_texts, maxlen=500)"
   ]
  },
  {
   "cell_type": "markdown",
   "metadata": {
    "id": "VpesSrCSt4TR"
   },
   "source": [
    "**Label Preprocessing**"
   ]
  },
  {
   "cell_type": "code",
   "execution_count": 19,
   "metadata": {
    "colab": {
     "base_uri": "https://localhost:8080/"
    },
    "id": "FGypo-WRxJg4",
    "outputId": "3735798c-89ba-4b08-9a51-3725a12a64dc"
   },
   "outputs": [
    {
     "name": "stdout",
     "output_type": "stream",
     "text": [
      "Total labels :  29\n"
     ]
    }
   ],
   "source": [
    "total_labels = len(dataframe['article_topic'].unique())\n",
    "print('Total labels : ', total_labels)"
   ]
  },
  {
   "cell_type": "code",
   "execution_count": 20,
   "metadata": {
    "colab": {
     "base_uri": "https://localhost:8080/"
    },
    "id": "b1mmGmV1t1cO",
    "outputId": "49333275-e9a9-4748-a6af-52bc2a13013b"
   },
   "outputs": [
    {
     "data": {
      "text/plain": [
       "(9964, 1)"
      ]
     },
     "execution_count": 20,
     "metadata": {},
     "output_type": "execute_result"
    }
   ],
   "source": [
    "all_labels = np.array(dataframe['article_topic'])\n",
    "all_labels = all_labels[:, np.newaxis]\n",
    "\n",
    "all_labels.shape"
   ]
  },
  {
   "cell_type": "code",
   "execution_count": 21,
   "metadata": {
    "colab": {
     "base_uri": "https://localhost:8080/"
    },
    "id": "-nfvU2EjvHYg",
    "outputId": "6ba1cce9-c505-4de4-899c-c89cc5c68e60"
   },
   "outputs": [
    {
     "data": {
      "text/plain": [
       "array([[0., 0., 0., ..., 0., 0., 0.],\n",
       "       [0., 0., 1., ..., 0., 0., 0.],\n",
       "       [0., 0., 0., ..., 0., 1., 0.],\n",
       "       ...,\n",
       "       [0., 0., 0., ..., 0., 0., 0.],\n",
       "       [0., 0., 0., ..., 0., 0., 0.],\n",
       "       [0., 0., 0., ..., 0., 1., 0.]])"
      ]
     },
     "execution_count": 21,
     "metadata": {},
     "output_type": "execute_result"
    }
   ],
   "source": [
    "one_hot_encoder = OneHotEncoder(sparse=False)\n",
    "all_labels = one_hot_encoder.fit_transform(all_labels)\n",
    "all_labels"
   ]
  },
  {
   "cell_type": "markdown",
   "metadata": {
    "id": "foyFKiLPyyDm"
   },
   "source": [
    "### **Modelling**"
   ]
  },
  {
   "cell_type": "code",
   "execution_count": 24,
   "metadata": {
    "id": "d0AQkvosvZpE"
   },
   "outputs": [],
   "source": [
    "X_train, X_test, y_train, y_test = train_test_split(all_encoded_texts, all_labels, test_size=0.2, random_state=10, stratify=all_labels)"
   ]
  },
  {
   "cell_type": "code",
   "execution_count": 25,
   "metadata": {
    "id": "Tor2shJFzLTA"
   },
   "outputs": [],
   "source": [
    "model = Sequential()\n",
    "model.add(Embedding(input_dim=len(tokenizer.word_index)+1, output_dim=64, input_length=500))\n",
    "model.add(LSTM(100))\n",
    "model.add(Dense(total_labels, activation='sigmoid'))\n",
    "optimizer = Adam(lr=0.1)\n",
    "\n",
    "model.compile(loss='categorical_crossentropy', optimizer='adam', metrics=['accuracy'])"
   ]
  },
  {
   "cell_type": "code",
   "execution_count": 27,
   "metadata": {
    "colab": {
     "base_uri": "https://localhost:8080/"
    },
    "id": "pbWeCjmQMpSo",
    "outputId": "27d5e70b-0c93-4563-cb44-6d60f2b6fa4c"
   },
   "outputs": [
    {
     "name": "stdout",
     "output_type": "stream",
     "text": [
      "Epoch 1/10\n",
      "125/125 [==============================] - 117s 908ms/step - loss: 2.4745 - accuracy: 0.2843 - val_loss: 1.8677 - val_accuracy: 0.4335\n",
      "Epoch 2/10\n",
      "125/125 [==============================] - 113s 901ms/step - loss: 1.5589 - accuracy: 0.5204 - val_loss: 1.3722 - val_accuracy: 0.5891\n",
      "Epoch 3/10\n",
      "125/125 [==============================] - 113s 903ms/step - loss: 1.1249 - accuracy: 0.6525 - val_loss: 1.2028 - val_accuracy: 0.6543\n",
      "Epoch 4/10\n",
      "125/125 [==============================] - 110s 884ms/step - loss: 0.8933 - accuracy: 0.7343 - val_loss: 1.0252 - val_accuracy: 0.7075\n",
      "Epoch 5/10\n",
      "125/125 [==============================] - 114s 913ms/step - loss: 0.5849 - accuracy: 0.8244 - val_loss: 1.0735 - val_accuracy: 0.6994\n",
      "Epoch 6/10\n",
      "125/125 [==============================] - 117s 939ms/step - loss: 0.4739 - accuracy: 0.8663 - val_loss: 0.9077 - val_accuracy: 0.7602\n",
      "Epoch 7/10\n",
      "125/125 [==============================] - 116s 929ms/step - loss: 0.3111 - accuracy: 0.9162 - val_loss: 0.8916 - val_accuracy: 0.7622\n",
      "Epoch 8/10\n",
      "125/125 [==============================] - 114s 916ms/step - loss: 0.2134 - accuracy: 0.9484 - val_loss: 0.9763 - val_accuracy: 0.7582\n",
      "Epoch 9/10\n",
      "125/125 [==============================] - ETA: 0s - loss: 0.1522 - accuracy: 0.9681\n",
      "Reached 95% accuracy so cancelling training!\n",
      "125/125 [==============================] - 115s 924ms/step - loss: 0.1522 - accuracy: 0.9681 - val_loss: 0.9572 - val_accuracy: 0.7692\n"
     ]
    }
   ],
   "source": [
    "from tensorflow.keras.callbacks import Callback\n",
    "class myCallback(Callback):\n",
    "        def on_epoch_end(self, epoch, logs={}):\n",
    "            if (logs.get('accuracy') > 0.95):\n",
    "                print(\"\\nReached 95% accuracy so cancelling training!\")\n",
    "                self.model.stop_training = True\n",
    "\n",
    "    # Train the model\n",
    "callbacks = myCallback()\n",
    "\n",
    "history = model.fit(X_train, y_train, epochs=10, batch_size=64, validation_data=(X_test, y_test), callbacks = callbacks)"
   ]
  },
  {
   "cell_type": "code",
   "execution_count": 28,
   "metadata": {
    "colab": {
     "base_uri": "https://localhost:8080/",
     "height": 301
    },
    "id": "tNlmfrVbNHxd",
    "outputId": "6e59c393-2a00-4388-fd37-d064add12416"
   },
   "outputs": [
    {
     "data": {
      "text/plain": [
       "<matplotlib.legend.Legend at 0x1837a80a670>"
      ]
     },
     "execution_count": 28,
     "metadata": {},
     "output_type": "execute_result"
    },
    {
     "data": {
      "image/png": "[encoded data removed]",
      "text/plain": [
       "<Figure size 432x288 with 1 Axes>"
      ]
     },
     "metadata": {},
     "output_type": "display_data"
    }
   ],
   "source": [
    "plt.plot(history.history['accuracy'], label='train')\n",
    "plt.plot(history.history['val_accuracy'], label='test')\n",
    "plt.title('Graphic of Accuracy')\n",
    "plt.legend()"
   ]
  },
  {
   "cell_type": "markdown",
   "metadata": {
    "id": "I4IT1YtVpWLa"
   },
   "source": [
    "### Model Evaluation"
   ]
  },
  {
   "cell_type": "code",
   "execution_count": 29,
   "metadata": {
    "colab": {
     "base_uri": "https://localhost:8080/"
    },
    "id": "fQRArNNbXOZF",
    "outputId": "cbcf88d7-451e-4cf8-ea21-639b2b3359a0"
   },
   "outputs": [
    {
     "name": "stdout",
     "output_type": "stream",
     "text": [
      "63/63 [==============================] - 10s 154ms/step\n"
     ]
    }
   ],
   "source": [
    "predictions = model.predict(X_test)\n",
    "predictions_evaluate = np.argmax(predictions, axis=1)"
   ]
  },
  {
   "cell_type": "code",
   "execution_count": 30,
   "metadata": {
    "colab": {
     "base_uri": "https://localhost:8080/"
    },
    "id": "PkvTsnvLpp1G",
    "outputId": "7191b76f-31c4-4ccb-d315-c30380e0092a"
   },
   "outputs": [
    {
     "name": "stdout",
     "output_type": "stream",
     "text": [
      "               precision    recall  f1-score   support\n",
      "\n",
      "       Bisnis       0.00      0.00      0.00         5\n",
      "   Bojonegoro       1.00      0.90      0.95        52\n",
      "      Ekonomi       0.90      0.93      0.92       352\n",
      "         Haji       0.98      0.98      0.98       299\n",
      "       Health       0.56      0.38      0.45        26\n",
      "      Hiburan       0.91      0.81      0.86       290\n",
      "        Horor       0.00      0.00      0.00        10\n",
      "        Hukum       0.08      0.12      0.09        17\n",
      "Internasional       0.53      0.76      0.62       148\n",
      "      Jakarta       0.00      0.00      0.00         2\n",
      "        K-Pop       0.50      0.25      0.33        12\n",
      "          KPK       0.56      0.71      0.63         7\n",
      "    Kesehatan       0.48      0.54      0.51        39\n",
      "     Keuangan       0.00      0.00      0.00         3\n",
      "    Lifestyle       0.65      0.68      0.66       114\n",
      "       MotoGP       0.25      0.14      0.18         7\n",
      "  Obat-obatan       0.67      0.50      0.57        12\n",
      "     Otomotif       0.71      0.69      0.70        35\n",
      "   Pendidikan       0.15      0.29      0.20        14\n",
      "     Personal       0.00      0.00      0.00        16\n",
      " Pilgub Jatim       0.67      0.40      0.50         5\n",
      "      Politik       0.33      0.19      0.24        21\n",
      "     Regional       0.00      0.00      0.00         7\n",
      "        Sains       0.78      0.80      0.79        35\n",
      "      Sejarah       0.40      0.14      0.21        14\n",
      "   Sepak Bola       0.83      0.86      0.85       236\n",
      "       Sports       0.49      0.47      0.48        87\n",
      "    Teknologi       0.79      0.73      0.76       113\n",
      "       Travel       0.09      0.07      0.08        15\n",
      "\n",
      "     accuracy                           0.77      1993\n",
      "    macro avg       0.46      0.43      0.43      1993\n",
      " weighted avg       0.77      0.77      0.77      1993\n",
      "\n",
      "Total Weighted +1 Score: 0.7651477094135949\n"
     ]
    }
   ],
   "source": [
    "y_test_evaluate = np.argmax(y_test, axis=1)\n",
    "target_names = [target_name.split('_')[1] for target_name in one_hot_encoder.get_feature_names()]\n",
    "print(classification_report(y_test_evaluate, predictions_evaluate, target_names=target_names))\n",
    "\n",
    "print('Total Weighted +1 Score:', f1_score(y_test_evaluate, predictions_evaluate, average='weighted'))\n",
    "model.save('news_paper_model.h5')"
   ]
  },
  {
   "cell_type": "markdown",
   "metadata": {
    "id": "sGn32qZkrQlS"
   },
   "source": [
    "## **Testing**"
   ]
  },
  {
   "cell_type": "code",
   "execution_count": 31,
   "metadata": {
    "id": "7crfN8MzqtTf"
   },
   "outputs": [],
   "source": [
    "string = 'Ronaldo memberikan 3 gol untuk klub Manchester United sehingga seluruh penonton bersorak gembira atas hiburan yang diberikan Ronaldo'"
   ]
  },
  {
   "cell_type": "code",
   "execution_count": 32,
   "metadata": {
    "id": "OAsdBHavrcE-"
   },
   "outputs": [],
   "source": [
    "cleaned_string = cleaning(string)\n",
    "\n",
    "encoded_string = tokenizer.texts_to_sequences([cleaned_string])\n",
    "\n",
    "encoded_string = sequence.pad_sequences(encoded_string, maxlen=500)"
   ]
  },
  {
   "cell_type": "code",
   "execution_count": 33,
   "metadata": {
    "colab": {
     "base_uri": "https://localhost:8080/"
    },
    "id": "9FhPVGvmsBz9",
    "outputId": "689d1900-9d0c-4762-c3b0-1781f7588bc7"
   },
   "outputs": [
    {
     "name": "stdout",
     "output_type": "stream",
     "text": [
      "1/1 [==============================] - 0s 62ms/step\n",
      "Sepak Bola\n"
     ]
    }
   ],
   "source": [
    "string_predict = model.predict(encoded_string)\n",
    "print(str(one_hot_encoder.inverse_transform(string_predict).item()))"
   ]
  }
 ],
 "metadata": {
  "colab": {
   "collapsed_sections": [],
   "provenance": []
  },
  "kernelspec": {
   "display_name": "Python 3 (ipykernel)",
   "language": "python",
   "name": "python3"
  },
  "language_info": {
   "codemirror_mode": {
    "name": "ipython",
    "version": 3
   },
   "file_extension": ".py",
   "mimetype": "text/x-python",
   "name": "python",
   "nbconvert_exporter": "python",
   "pygments_lexer": "ipython3",
   "version": "3.9.7"
  }
 },
 "nbformat": 4,
 "nbformat_minor": 1
}
